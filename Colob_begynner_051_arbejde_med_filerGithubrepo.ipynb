{
  "nbformat": 4,
  "nbformat_minor": 0,
  "metadata": {
    "colab": {
      "name": "Colob_begynner_051_arbejde med filerGithubrepo.ipynb",
      "provenance": [],
      "authorship_tag": "ABX9TyP5aPfIbyOETJDCRxGbxr1q",
      "include_colab_link": true
    },
    "kernelspec": {
      "name": "python3",
      "display_name": "Python 3"
    },
    "language_info": {
      "name": "python"
    }
  },
  "cells": [
    {
      "cell_type": "markdown",
      "metadata": {
        "id": "view-in-github",
        "colab_type": "text"
      },
      "source": [
        "<a href=\"https://colab.research.google.com/github/popcorn1939/portfolio/blob/master/Colob_begynner_051_arbejde_med_filerGithubrepo.ipynb\" target=\"_parent\"><img src=\"https://colab.research.google.com/assets/colab-badge.svg\" alt=\"Open In Colab\"/></a>"
      ]
    },
    {
      "cell_type": "code",
      "execution_count": 1,
      "metadata": {
        "id": "P-ctKJ2RzGaC",
        "colab": {
          "base_uri": "https://localhost:8080/"
        },
        "outputId": "a50b0f4b-15f3-46b8-b6bf-2efa232a276a"
      },
      "outputs": [
        {
          "output_type": "stream",
          "name": "stdout",
          "text": [
            "/content\n"
          ]
        }
      ],
      "source": [
        "!pwd"
      ]
    },
    {
      "cell_type": "code",
      "source": [
        "try:\n",
        "  from google.colab import drive\n",
        "  IN_COLAB=True\n",
        "except:\n",
        "  IN_COLAB=False\n",
        "\n",
        "if IN_COLAB:\n",
        "  print(\"We're running Colab\")"
      ],
      "metadata": {
        "colab": {
          "base_uri": "https://localhost:8080/"
        },
        "id": "H4OSOVcW1jaO",
        "outputId": "95bc1992-d410-404b-c8a0-303fd9c37098"
      },
      "execution_count": 2,
      "outputs": [
        {
          "output_type": "stream",
          "name": "stdout",
          "text": [
            "We're running Colab\n"
          ]
        }
      ]
    },
    {
      "cell_type": "code",
      "source": [
        "if IN_COLAB:\n",
        "  # Mount the Google Drive at mount\n",
        "  mount='/content/gdrive'\n",
        "  print(\"Colab: mounting Google drive on \", mount)\n",
        "\n",
        "  drive.mount(mount)\n",
        "\n",
        "  # Switch to the directory on the Google Drive that you want to use\n",
        "  import os\n",
        "  drive_root = mount + \"/My Drive/Colab Notebooks/exiftool/demo\"\n",
        "  \n",
        "  # Create drive_root if it doesn't exist\n",
        "  create_drive_root = True\n",
        "  if create_drive_root:\n",
        "    print(\"\\nColab: making sure \", drive_root, \" exists.\")\n",
        "    os.makedirs(drive_root, exist_ok=True)\n",
        "  \n",
        "  # Change to the directory\n",
        "  print(\"\\nColab: Changing directory to \", drive_root)\n",
        "  %cd $drive_root"
      ],
      "metadata": {
        "colab": {
          "base_uri": "https://localhost:8080/"
        },
        "id": "7QQANPgh1uSn",
        "outputId": "7cfd603d-2081-406e-e912-160116624ce6"
      },
      "execution_count": 3,
      "outputs": [
        {
          "output_type": "stream",
          "name": "stdout",
          "text": [
            "Colab: mounting Google drive on  /content/gdrive\n",
            "Mounted at /content/gdrive\n",
            "\n",
            "Colab: making sure  /content/gdrive/My Drive/Colab Notebooks/exiftool/demo  exists.\n",
            "\n",
            "Colab: Changing directory to  /content/gdrive/My Drive/Colab Notebooks/exiftool/demo\n",
            "/content/gdrive/My Drive/Colab Notebooks/exiftool/demo\n"
          ]
        }
      ]
    },
    {
      "cell_type": "code",
      "source": [
        "# Verify we're in the correct working directory\n",
        "%pwd"
      ],
      "metadata": {
        "colab": {
          "base_uri": "https://localhost:8080/",
          "height": 35
        },
        "id": "gEnS1z2y2pZB",
        "outputId": "80197f40-58ce-443d-d4d5-07a0fef8a43c"
      },
      "execution_count": 4,
      "outputs": [
        {
          "output_type": "execute_result",
          "data": {
            "text/plain": [
              "'/content/gdrive/MyDrive/Colab Notebooks/exiftool/demo'"
            ],
            "application/vnd.google.colaboratory.intrinsic+json": {
              "type": "string"
            }
          },
          "metadata": {},
          "execution_count": 4
        }
      ]
    },
    {
      "cell_type": "code",
      "source": [
        "# Let's load the working directory from our  public Git repo !\n",
        "repo_url = \"https://github.com/kenperry-public/ML_Fall_2019.git\"\n",
        "\n",
        "repo_url = \"https://github.com/popcorn1939/portfolio.git\"\n",
        "\n",
        "\n",
        "# Clone the repo unless it is already there\n",
        "repo_root = os.path.join(drive_root,\"portfolio\")\n",
        "\n",
        "# Clone or refresh from the repo depending on whether we've cloned before\n",
        "if not os.path.exists( repo_root ):\n",
        "  print(\"Cloning from Git url: \", repo_url)\n",
        "  ! git clone $repo_url\n",
        "else:\n",
        "  print(\"Refreshing from Git url: \", repo_url)\n",
        "  %cd $repo_root\n",
        "  ! git pull\n",
        "\n",
        "\n",
        "print(\"\\nChange working directory to repo root\")\n",
        "%cd $repo_root"
      ],
      "metadata": {
        "colab": {
          "base_uri": "https://localhost:8080/"
        },
        "id": "-ZQcLUJz24vj",
        "outputId": "bc3ba038-0a57-4e13-c2d9-592a544a3791"
      },
      "execution_count": 5,
      "outputs": [
        {
          "output_type": "stream",
          "name": "stdout",
          "text": [
            "Cloning from Git url:  https://github.com/popcorn1939/portfolio.git\n",
            "Cloning into 'portfolio'...\n",
            "remote: Enumerating objects: 3, done.\u001b[K\n",
            "remote: Counting objects: 100% (3/3), done.\u001b[K\n",
            "remote: Total 3 (delta 0), reused 3 (delta 0), pack-reused 0\u001b[K\n",
            "Unpacking objects: 100% (3/3), done.\n",
            "\n",
            "Change working directory to repo root\n",
            "/content/gdrive/My Drive/Colab Notebooks/exiftool/demo/portfolio\n"
          ]
        }
      ]
    },
    {
      "cell_type": "code",
      "source": [
        "!ls -al"
      ],
      "metadata": {
        "colab": {
          "base_uri": "https://localhost:8080/"
        },
        "id": "KO14RV5e-Jeg",
        "outputId": "97638b30-6cc9-459c-e9df-5f2b353a8338"
      },
      "execution_count": 9,
      "outputs": [
        {
          "output_type": "stream",
          "name": "stdout",
          "text": [
            "total 9\n",
            "drwx------ 8 root root 4096 Mar 27 10:13 .git\n",
            "drwx------ 2 root root 4096 Mar 27 10:16 .ipynb_checkpoints\n",
            "-rw------- 1 root root   18 Mar 27 10:18 readme2.md\n",
            "-rw------- 1 root root   34 Mar 27 10:13 readme.md\n"
          ]
        }
      ]
    },
    {
      "cell_type": "code",
      "source": [
        "!git status"
      ],
      "metadata": {
        "colab": {
          "base_uri": "https://localhost:8080/"
        },
        "id": "euxpLmQ2-2Ex",
        "outputId": "4c14db23-ad3e-404d-a8d7-c89549d5a1b8"
      },
      "execution_count": 11,
      "outputs": [
        {
          "output_type": "stream",
          "name": "stdout",
          "text": [
            "On branch master\n",
            "Your branch is up to date with 'origin/master'.\n",
            "\n",
            "Untracked files:\n",
            "  (use \"git add <file>...\" to include in what will be committed)\n",
            "\n",
            "\t\u001b[31mimages/\u001b[m\n",
            "\t\u001b[31mreadme2.md\u001b[m\n",
            "\n",
            "nothing added to commit but untracked files present (use \"git add\" to track)\n"
          ]
        }
      ]
    },
    {
      "cell_type": "code",
      "source": [
        "# Add / track changed files\n",
        "!git add ."
      ],
      "metadata": {
        "id": "qS9hcezN_qoa"
      },
      "execution_count": 12,
      "outputs": []
    },
    {
      "cell_type": "code",
      "source": [
        "# Commit the changes, kør 2 gange\n",
        "#keep Git commit messages under 50 characters or less.\n",
        "\n",
        "!git commit -m \"opprettet readme2 og bilder\"\n",
        "!git config --global user.email \"peter.python.mobile@gmail.com\"\n",
        "!git config --global user.name \"popcorn1939\""
      ],
      "metadata": {
        "colab": {
          "base_uri": "https://localhost:8080/"
        },
        "id": "oq2YD7K__2P5",
        "outputId": "d8f534b3-83dd-43a8-9171-2b015b89977b"
      },
      "execution_count": 14,
      "outputs": [
        {
          "output_type": "stream",
          "name": "stdout",
          "text": [
            "[master 9d9f41d] opprettet readme2 og bilder\n",
            " 7 files changed, 1 insertion(+)\n",
            " create mode 100644 images/IMG_20170816_105914.jpg\n",
            " create mode 100644 images/IMG_20170816_124631.jpg\n",
            " create mode 100644 images/IMG_20170816_125408.jpg\n",
            " create mode 100644 images/IMG_20170816_125420.jpg\n",
            " create mode 100644 images/IMG_20170816_125606.jpg\n",
            " create mode 100644 images/IMG_20170816_130517.jpg\n",
            " create mode 100644 readme2.md\n"
          ]
        }
      ]
    },
    {
      "cell_type": "code",
      "source": [
        "!git push origin portfolio"
      ],
      "metadata": {
        "colab": {
          "base_uri": "https://localhost:8080/"
        },
        "id": "kwFqgWFuJoC-",
        "outputId": "38ae18bb-ac07-48e9-acba-1ff3dde75dae"
      },
      "execution_count": 17,
      "outputs": [
        {
          "output_type": "stream",
          "name": "stdout",
          "text": [
            "error: src refspec portfolio does not match any.\n",
            "error: failed to push some refs to 'https://github.com/popcorn1939/portfolio.git'\n"
          ]
        }
      ]
    },
    {
      "cell_type": "code",
      "source": [
        "!git log --oneline --graph"
      ],
      "metadata": {
        "colab": {
          "base_uri": "https://localhost:8080/"
        },
        "id": "-Wb86m7yT8DH",
        "outputId": "c81ca8db-18c8-475e-a408-e3cdeffe447d"
      },
      "execution_count": 20,
      "outputs": [
        {
          "output_type": "stream",
          "name": "stdout",
          "text": [
            "* \u001b[33m9d9f41d\u001b[m\u001b[33m (\u001b[m\u001b[1;36mHEAD -> \u001b[m\u001b[1;32mmaster\u001b[m\u001b[33m)\u001b[m opprettet readme2 og bilder\n",
            "* \u001b[33m5ab2324\u001b[m\u001b[33m (\u001b[m\u001b[1;31morigin/master\u001b[m\u001b[33m, \u001b[m\u001b[1;31morigin/HEAD\u001b[m\u001b[33m)\u001b[m Initial Commit\n"
          ]
        }
      ]
    },
    {
      "cell_type": "markdown",
      "source": [
        ""
      ],
      "metadata": {
        "id": "5wJJM3ja_u46"
      }
    }
  ]
}